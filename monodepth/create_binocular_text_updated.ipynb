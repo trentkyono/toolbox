{
 "cells": [
  {
   "cell_type": "code",
   "execution_count": null,
   "metadata": {},
   "outputs": [],
   "source": [
    "outfile = 'binocular.txt'\n",
    "import os, glob, cv2\n",
    "files = sorted(glob.glob('/home/tkyono/Desktop/binocular/RAW_binocular/*.jpg'))\n",
    "\n",
    "\n"
   ]
  },
  {
   "cell_type": "code",
   "execution_count": null,
   "metadata": {},
   "outputs": [],
   "source": [
    "with open(outfile, 'w') as of:\n",
    "    for i in range(0, len(files), 2):\n",
    "        of.write(files[i].split('/')[-1] + ' ' + files[i + 1].split('/')[-1] + '\\n')"
   ]
  },
  {
   "cell_type": "code",
   "execution_count": null,
   "metadata": {},
   "outputs": [],
   "source": [
    "outfolder = '/home/tkyono/Desktop/binocular/resized/'\n",
    "\n",
    "if not os.path.exists(outfolder):\n",
    "    os.mkdir(outfolder)\n",
    "for i in files:\n",
    "    im = cv2.imread(i, 0)\n",
    "    print(im.shape)\n",
    "    im = cv2.resize(im[100:900, 40:1640], (1024,512))\n",
    "    im = cv2.cvtColor(im,cv2.COLOR_GRAY2RGB)\n",
    "    cv2.imwrite(outfolder + i.split('/')[-1], im)"
   ]
  },
  {
   "cell_type": "code",
   "execution_count": null,
   "metadata": {},
   "outputs": [],
   "source": [
    "'''\n",
    "without cropping\n",
    "'''\n",
    "outfolder = '/home/tkyono/Desktop/binocular/resized_halfscale/'\n",
    "\n",
    "if not os.path.exists(outfolder):\n",
    "    os.mkdir(outfolder)\n",
    "for i in files:\n",
    "    im = cv2.imread(i, 0)\n",
    "    print(im.shape)\n",
    "    im = cv2.resize(im, (1024,512))\n",
    "    im = cv2.cvtColor(im,cv2.COLOR_GRAY2RGB)\n",
    "    cv2.imwrite(outfolder + i.split('/')[-1], im)"
   ]
  },
  {
   "cell_type": "code",
   "execution_count": null,
   "metadata": {
    "scrolled": true
   },
   "outputs": [],
   "source": [
    "# Assess the predictions\n",
    "import numpy as np\n",
    "import matplotlib.pyplot as plt\n",
    "dp = np.load('/home/tkyono/tmp/test_model_half/disparities_pp.npy')\n",
    "im = plt.imread('/home/tkyono/Desktop/binocular/resized_halfscale_test/stereo_test_42570_left.jpg')\n",
    "plt.figure()\n",
    "plt.imshow(im)\n",
    "plt.\n",
    "for i in range(5):\n",
    "    plt.figure()\n",
    "    plt.imshow(dp[i], cmap = 'afmhot')\n",
    "    plt.show()"
   ]
  },
  {
   "cell_type": "code",
   "execution_count": null,
   "metadata": {},
   "outputs": [],
   "source": [
    "# Assess the predictions\n",
    "import numpy as np\n",
    "import matplotlib.pyplot as plt\n",
    "dp = np.load('/home/tkyono/tmp/test_model_half/disparities_pp.npy')\n",
    "#dp = np.load('/home/tkyono/tmp/test_model_cropped/disparities_pp.npy')\n",
    "    "
   ]
  },
  {
   "cell_type": "code",
   "execution_count": null,
   "metadata": {},
   "outputs": [],
   "source": [
    "dp[100].shape"
   ]
  },
  {
   "cell_type": "code",
   "execution_count": null,
   "metadata": {
    "scrolled": true
   },
   "outputs": [],
   "source": [
    "output_moviedir = '/home/tkyono/Desktop/DepthMovie/'\n",
    "def normalize(A):\n",
    "    return (A-np.min(A)) / np.ptp(A)\n",
    "data_dir = '/home/tkyono/Desktop/binocular/RAW_binocular/'\n",
    "binocular_file = '/home/tkyono/Desktop/monodepth-master/binocular.txt'\n",
    "with open(binocular_file) as f:\n",
    "    content = f.readlines()\n",
    "\n",
    "for i in range(100,200):\n",
    "    print(i)\n",
    "    print(content[i].split(' ')[0])\n",
    "    im = cv2.resize(cv2.imread(data_dir + content[i].split(' ')[0]), (1920,1200))\n",
    "    #plt.figure()\n",
    "    #plt.imshow(im)\n",
    "    #plt.show()\n",
    "    #plt.figure()\n",
    "    pred = cv2.resize(dp[i], (1920, 1200)) * 255\n",
    "    \n",
    "    fig, (ax1, ax2) = plt.subplots(1, 2,figsize = (20,10))\n",
    "    ax1.set_axis_off()\n",
    "    fig.add_axes(ax1)\n",
    "    ax1.imshow(im)\n",
    "    ax2.set_axis_off()\n",
    "    ax2.imshow(normalize(pred), cmap = 'jet')\n",
    "    #plt.imshow(pred, cmap = 'afmhot')\n",
    "    plt.tight_layout()\n",
    "\n",
    "    #fig = plt.figure(figsize = (20,10))\n",
    "    #ax = plt.Axes(fig, [0., 0., 1., 1.])\n",
    "    #ax.set_axis_off()\n",
    "    #fig.add_axes(ax)\n",
    "    #plt.tight_layout()\n",
    "    #plt.imshow(np.hstack((normalize(im), normalize(pred))), cmap = 'afmhot')\n",
    "    plt.savefig(output_moviedir + str(i) + '.jpg')\n",
    "    plt.show()"
   ]
  },
  {
   "cell_type": "code",
   "execution_count": null,
   "metadata": {},
   "outputs": [],
   "source": [
    "import processing_outputs as po\n",
    "'''Make the movies here'''\n",
    "po.make_movie(output_moviedir, \n",
    "              '/home/tkyono/Desktop/', \n",
    "              'DepthMovie', \n",
    "              start_frm = 0, \n",
    "              num_frms = 100, \n",
    "              fps = 5, \n",
    "              stride = 1)"
   ]
  },
  {
   "cell_type": "code",
   "execution_count": null,
   "metadata": {},
   "outputs": [],
   "source": []
  }
 ],
 "metadata": {
  "kernelspec": {
   "display_name": "Python 3",
   "language": "python",
   "name": "python3"
  },
  "language_info": {
   "codemirror_mode": {
    "name": "ipython",
    "version": 3
   },
   "file_extension": ".py",
   "mimetype": "text/x-python",
   "name": "python",
   "nbconvert_exporter": "python",
   "pygments_lexer": "ipython3",
   "version": "3.6.8"
  }
 },
 "nbformat": 4,
 "nbformat_minor": 2
}
